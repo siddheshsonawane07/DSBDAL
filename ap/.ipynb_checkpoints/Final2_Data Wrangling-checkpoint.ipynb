{
 "cells": [
  {
   "cell_type": "code",
   "execution_count": 2,
   "id": "da2b3f85",
   "metadata": {},
   "outputs": [],
   "source": [
    "import pandas as pd\n",
    "import numpy as np"
   ]
  },
  {
   "cell_type": "code",
   "execution_count": 21,
   "id": "165a9c09",
   "metadata": {},
   "outputs": [
    {
     "data": {
      "text/html": [
       "<div>\n",
       "<style scoped>\n",
       "    .dataframe tbody tr th:only-of-type {\n",
       "        vertical-align: middle;\n",
       "    }\n",
       "\n",
       "    .dataframe tbody tr th {\n",
       "        vertical-align: top;\n",
       "    }\n",
       "\n",
       "    .dataframe thead th {\n",
       "        text-align: right;\n",
       "    }\n",
       "</style>\n",
       "<table border=\"1\" class=\"dataframe\">\n",
       "  <thead>\n",
       "    <tr style=\"text-align: right;\">\n",
       "      <th></th>\n",
       "      <th>Gender</th>\n",
       "      <th>Math_score</th>\n",
       "      <th>Reading_score</th>\n",
       "      <th>Writing_score</th>\n",
       "      <th>Placement_score</th>\n",
       "      <th>Placement_count</th>\n",
       "      <th>Region</th>\n",
       "    </tr>\n",
       "  </thead>\n",
       "  <tbody>\n",
       "    <tr>\n",
       "      <th>0</th>\n",
       "      <td>Female</td>\n",
       "      <td>80</td>\n",
       "      <td>70</td>\n",
       "      <td>65</td>\n",
       "      <td>75</td>\n",
       "      <td>2</td>\n",
       "      <td>Pune</td>\n",
       "    </tr>\n",
       "    <tr>\n",
       "      <th>1</th>\n",
       "      <td>Male</td>\n",
       "      <td>100</td>\n",
       "      <td>75</td>\n",
       "      <td>100</td>\n",
       "      <td>80</td>\n",
       "      <td>2</td>\n",
       "      <td>Mumbai</td>\n",
       "    </tr>\n",
       "    <tr>\n",
       "      <th>2</th>\n",
       "      <td>Male</td>\n",
       "      <td>65</td>\n",
       "      <td>70</td>\n",
       "      <td>68</td>\n",
       "      <td>55</td>\n",
       "      <td>1</td>\n",
       "      <td>Banglore</td>\n",
       "    </tr>\n",
       "    <tr>\n",
       "      <th>3</th>\n",
       "      <td>Female</td>\n",
       "      <td>68</td>\n",
       "      <td>40</td>\n",
       "      <td>69</td>\n",
       "      <td>40</td>\n",
       "      <td>2</td>\n",
       "      <td>Pune</td>\n",
       "    </tr>\n",
       "    <tr>\n",
       "      <th>4</th>\n",
       "      <td>Female</td>\n",
       "      <td>70</td>\n",
       "      <td>85</td>\n",
       "      <td>75</td>\n",
       "      <td>90</td>\n",
       "      <td>3</td>\n",
       "      <td>Banglore</td>\n",
       "    </tr>\n",
       "    <tr>\n",
       "      <th>5</th>\n",
       "      <td>Male</td>\n",
       "      <td>78</td>\n",
       "      <td>95</td>\n",
       "      <td>80</td>\n",
       "      <td>89</td>\n",
       "      <td>3</td>\n",
       "      <td>Pune</td>\n",
       "    </tr>\n",
       "    <tr>\n",
       "      <th>6</th>\n",
       "      <td>Male</td>\n",
       "      <td>75</td>\n",
       "      <td>90</td>\n",
       "      <td>70</td>\n",
       "      <td>91</td>\n",
       "      <td>1</td>\n",
       "      <td>Mumbai</td>\n",
       "    </tr>\n",
       "    <tr>\n",
       "      <th>7</th>\n",
       "      <td>Female</td>\n",
       "      <td>40</td>\n",
       "      <td>95</td>\n",
       "      <td>30</td>\n",
       "      <td>92</td>\n",
       "      <td>2</td>\n",
       "      <td>Pune</td>\n",
       "    </tr>\n",
       "    <tr>\n",
       "      <th>8</th>\n",
       "      <td>Male</td>\n",
       "      <td>80</td>\n",
       "      <td>90</td>\n",
       "      <td>77</td>\n",
       "      <td>100</td>\n",
       "      <td>2</td>\n",
       "      <td>Mumbai</td>\n",
       "    </tr>\n",
       "    <tr>\n",
       "      <th>9</th>\n",
       "      <td>Male</td>\n",
       "      <td>50</td>\n",
       "      <td>100</td>\n",
       "      <td>66</td>\n",
       "      <td>75</td>\n",
       "      <td>3</td>\n",
       "      <td>Pune</td>\n",
       "    </tr>\n",
       "  </tbody>\n",
       "</table>\n",
       "</div>"
      ],
      "text/plain": [
       "   Gender  Math_score  Reading_score  Writing_score  Placement_score  \\\n",
       "0  Female          80             70             65               75   \n",
       "1    Male         100             75            100               80   \n",
       "2    Male          65             70             68               55   \n",
       "3  Female          68             40             69               40   \n",
       "4  Female          70             85             75               90   \n",
       "5    Male          78             95             80               89   \n",
       "6    Male          75             90             70               91   \n",
       "7  Female          40             95             30               92   \n",
       "8    Male          80             90             77              100   \n",
       "9    Male          50            100             66               75   \n",
       "\n",
       "   Placement_count    Region  \n",
       "0                2      Pune  \n",
       "1                2    Mumbai  \n",
       "2                1  Banglore  \n",
       "3                2      Pune  \n",
       "4                3  Banglore  \n",
       "5                3      Pune  \n",
       "6                1    Mumbai  \n",
       "7                2      Pune  \n",
       "8                2    Mumbai  \n",
       "9                3      Pune  "
      ]
     },
     "execution_count": 21,
     "metadata": {},
     "output_type": "execute_result"
    }
   ],
   "source": [
    "df=pd.read_csv(\"StudentPerformance.csv\")\n",
    "df"
   ]
  },
  {
   "cell_type": "code",
   "execution_count": 4,
   "id": "758f8902",
   "metadata": {},
   "outputs": [
    {
     "data": {
      "text/plain": [
       "Gender             0\n",
       "Math_score         0\n",
       "Reading_score      0\n",
       "Writing_score      0\n",
       "Placement_score    0\n",
       "Placement_count    0\n",
       "Region             0\n",
       "dtype: int64"
      ]
     },
     "execution_count": 4,
     "metadata": {},
     "output_type": "execute_result"
    }
   ],
   "source": [
    "df.isnull().sum()"
   ]
  },
  {
   "cell_type": "code",
   "execution_count": 5,
   "id": "2215aec2",
   "metadata": {},
   "outputs": [
    {
     "data": {
      "image/png": "[encoded data removed]",
      "text/plain": [
       "<Figure size 640x480 with 1 Axes>"
      ]
     },
     "metadata": {},
     "output_type": "display_data"
    }
   ],
   "source": [
    "#Finding Outliers\n",
    "import matplotlib.pyplot as plt\n",
    "boxplot=df.boxplot()\n",
    "plt.show()"
   ]
  },
  {
   "cell_type": "code",
   "execution_count": 6,
   "id": "a3d9a08d",
   "metadata": {},
   "outputs": [
    {
     "data": {
      "image/png": "[encoded data removed]",
      "text/plain": [
       "<Figure size 640x480 with 1 Axes>"
      ]
     },
     "metadata": {},
     "output_type": "display_data"
    }
   ],
   "source": [
    "import matplotlib.pyplot as plt\n",
    "boxplot=df.boxplot()\n",
    "plt.show()"
   ]
  },
  {
   "cell_type": "code",
   "execution_count": 7,
   "id": "5e7142eb",
   "metadata": {},
   "outputs": [
    {
     "data": {
      "text/plain": [
       "[80, 100, 78, 75, 80]"
      ]
     },
     "execution_count": 7,
     "metadata": {},
     "output_type": "execute_result"
    }
   ],
   "source": [
    "mean=df['Math_score'].mean()\n",
    "std=df['Math_score'].std()\n",
    "outlier=[]\n",
    "for i in df['Math_score']:\n",
    "    z=(i-mean)/std\n",
    "    if(z>0):\n",
    "        outlier.append(i)\n",
    "outlier"
   ]
  },
  {
   "cell_type": "code",
   "execution_count": 8,
   "id": "c500efed",
   "metadata": {},
   "outputs": [
    {
     "data": {
      "text/plain": [
       "<AxesSubplot:ylabel='Frequency'>"
      ]
     },
     "execution_count": 8,
     "metadata": {},
     "output_type": "execute_result"
    },
    {
     "data": {
      "image/png": "[encoded data removed]",
      "text/plain": [
       "<Figure size 640x480 with 1 Axes>"
      ]
     },
     "metadata": {},
     "output_type": "display_data"
    }
   ],
   "source": [
    "import matplotlib as plt\n",
    "df['Math_score'].plot(kind='hist')"
   ]
  },
  {
   "cell_type": "code",
   "execution_count": 25,
   "id": "aeecd9c2",
   "metadata": {},
   "outputs": [
    {
     "data": {
      "text/html": [
       "<div>\n",
       "<style scoped>\n",
       "    .dataframe tbody tr th:only-of-type {\n",
       "        vertical-align: middle;\n",
       "    }\n",
       "\n",
       "    .dataframe tbody tr th {\n",
       "        vertical-align: top;\n",
       "    }\n",
       "\n",
       "    .dataframe thead th {\n",
       "        text-align: right;\n",
       "    }\n",
       "</style>\n",
       "<table border=\"1\" class=\"dataframe\">\n",
       "  <thead>\n",
       "    <tr style=\"text-align: right;\">\n",
       "      <th></th>\n",
       "      <th>Gender</th>\n",
       "      <th>Math_score</th>\n",
       "      <th>Reading_score</th>\n",
       "      <th>Writing_score</th>\n",
       "      <th>Placement_score</th>\n",
       "      <th>Placement_count</th>\n",
       "      <th>Region</th>\n",
       "    </tr>\n",
       "  </thead>\n",
       "  <tbody>\n",
       "    <tr>\n",
       "      <th>0</th>\n",
       "      <td>Female</td>\n",
       "      <td>80</td>\n",
       "      <td>70</td>\n",
       "      <td>65</td>\n",
       "      <td>75</td>\n",
       "      <td>2</td>\n",
       "      <td>Pune</td>\n",
       "    </tr>\n",
       "    <tr>\n",
       "      <th>1</th>\n",
       "      <td>Male</td>\n",
       "      <td>100</td>\n",
       "      <td>75</td>\n",
       "      <td>100</td>\n",
       "      <td>80</td>\n",
       "      <td>2</td>\n",
       "      <td>Mumbai</td>\n",
       "    </tr>\n",
       "    <tr>\n",
       "      <th>2</th>\n",
       "      <td>Male</td>\n",
       "      <td>65</td>\n",
       "      <td>70</td>\n",
       "      <td>68</td>\n",
       "      <td>55</td>\n",
       "      <td>1</td>\n",
       "      <td>Banglore</td>\n",
       "    </tr>\n",
       "    <tr>\n",
       "      <th>3</th>\n",
       "      <td>Female</td>\n",
       "      <td>68</td>\n",
       "      <td>40</td>\n",
       "      <td>69</td>\n",
       "      <td>40</td>\n",
       "      <td>2</td>\n",
       "      <td>Pune</td>\n",
       "    </tr>\n",
       "    <tr>\n",
       "      <th>4</th>\n",
       "      <td>Female</td>\n",
       "      <td>70</td>\n",
       "      <td>85</td>\n",
       "      <td>75</td>\n",
       "      <td>90</td>\n",
       "      <td>3</td>\n",
       "      <td>Banglore</td>\n",
       "    </tr>\n",
       "    <tr>\n",
       "      <th>5</th>\n",
       "      <td>Male</td>\n",
       "      <td>78</td>\n",
       "      <td>95</td>\n",
       "      <td>80</td>\n",
       "      <td>89</td>\n",
       "      <td>3</td>\n",
       "      <td>Pune</td>\n",
       "    </tr>\n",
       "    <tr>\n",
       "      <th>6</th>\n",
       "      <td>Male</td>\n",
       "      <td>75</td>\n",
       "      <td>90</td>\n",
       "      <td>70</td>\n",
       "      <td>91</td>\n",
       "      <td>1</td>\n",
       "      <td>Mumbai</td>\n",
       "    </tr>\n",
       "    <tr>\n",
       "      <th>7</th>\n",
       "      <td>Female</td>\n",
       "      <td>40</td>\n",
       "      <td>95</td>\n",
       "      <td>30</td>\n",
       "      <td>92</td>\n",
       "      <td>2</td>\n",
       "      <td>Pune</td>\n",
       "    </tr>\n",
       "    <tr>\n",
       "      <th>8</th>\n",
       "      <td>Male</td>\n",
       "      <td>80</td>\n",
       "      <td>90</td>\n",
       "      <td>77</td>\n",
       "      <td>100</td>\n",
       "      <td>2</td>\n",
       "      <td>Mumbai</td>\n",
       "    </tr>\n",
       "    <tr>\n",
       "      <th>9</th>\n",
       "      <td>Male</td>\n",
       "      <td>50</td>\n",
       "      <td>100</td>\n",
       "      <td>66</td>\n",
       "      <td>75</td>\n",
       "      <td>3</td>\n",
       "      <td>Pune</td>\n",
       "    </tr>\n",
       "  </tbody>\n",
       "</table>\n",
       "</div>"
      ],
      "text/plain": [
       "   Gender  Math_score  Reading_score  Writing_score  Placement_score  \\\n",
       "0  Female          80             70             65               75   \n",
       "1    Male         100             75            100               80   \n",
       "2    Male          65             70             68               55   \n",
       "3  Female          68             40             69               40   \n",
       "4  Female          70             85             75               90   \n",
       "5    Male          78             95             80               89   \n",
       "6    Male          75             90             70               91   \n",
       "7  Female          40             95             30               92   \n",
       "8    Male          80             90             77              100   \n",
       "9    Male          50            100             66               75   \n",
       "\n",
       "   Placement_count    Region  \n",
       "0                2      Pune  \n",
       "1                2    Mumbai  \n",
       "2                1  Banglore  \n",
       "3                2      Pune  \n",
       "4                3  Banglore  \n",
       "5                3      Pune  \n",
       "6                1    Mumbai  \n",
       "7                2      Pune  \n",
       "8                2    Mumbai  \n",
       "9                3      Pune  "
      ]
     },
     "execution_count": 25,
     "metadata": {},
     "output_type": "execute_result"
    }
   ],
   "source": [
    "for x in df['Math_score']:\n",
    "        x=x/10\n",
    "df"
   ]
  },
  {
   "cell_type": "code",
   "execution_count": null,
   "id": "05cf75fa",
   "metadata": {},
   "outputs": [],
   "source": []
  }
 ],
 "metadata": {
  "kernelspec": {
   "display_name": "Python 3 (ipykernel)",
   "language": "python",
   "name": "python3"
  },
  "language_info": {
   "codemirror_mode": {
    "name": "ipython",
    "version": 3
   },
   "file_extension": ".py",
   "mimetype": "text/x-python",
   "name": "python",
   "nbconvert_exporter": "python",
   "pygments_lexer": "ipython3",
   "version": "3.11.3"
  }
 },
 "nbformat": 4,
 "nbformat_minor": 5
}
