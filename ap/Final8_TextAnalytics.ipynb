{
 "cells": [
  {
   "cell_type": "code",
   "execution_count": 2,
   "id": "474321d6",
   "metadata": {},
   "outputs": [],
   "source": [
    "import nltk"
   ]
  },
  {
   "cell_type": "code",
   "execution_count": 3,
   "id": "d8e093f9",
   "metadata": {},
   "outputs": [
    {
     "name": "stderr",
     "output_type": "stream",
     "text": [
      "[nltk_data] Downloading package stopwords to\n",
      "[nltk_data]     C:\\Users\\dell\\AppData\\Roaming\\nltk_data...\n",
      "[nltk_data]   Unzipping corpora\\stopwords.zip.\n",
      "[nltk_data] Downloading package words to\n",
      "[nltk_data]     C:\\Users\\dell\\AppData\\Roaming\\nltk_data...\n",
      "[nltk_data]   Unzipping corpora\\words.zip.\n",
      "[nltk_data] Downloading package wordnet to\n",
      "[nltk_data]     C:\\Users\\dell\\AppData\\Roaming\\nltk_data...\n",
      "[nltk_data] Error loading averaged_preception_tagger: Package\n",
      "[nltk_data]     'averaged_preception_tagger' not found in index\n",
      "[nltk_data] Downloading package punkt to\n",
      "[nltk_data]     C:\\Users\\dell\\AppData\\Roaming\\nltk_data...\n",
      "[nltk_data]   Unzipping tokenizers\\punkt.zip.\n"
     ]
    },
    {
     "data": {
      "text/plain": [
       "True"
      ]
     },
     "execution_count": 3,
     "metadata": {},
     "output_type": "execute_result"
    }
   ],
   "source": [
    "nltk.download('stopwords')\n",
    "nltk.download('words')\n",
    "nltk.download('wordnet')\n",
    "nltk.download('averaged_preception_tagger')\n",
    "nltk.download('punkt')"
   ]
  },
  {
   "cell_type": "code",
   "execution_count": 5,
   "id": "56ed088a",
   "metadata": {},
   "outputs": [
    {
     "name": "stdout",
     "output_type": "stream",
     "text": [
      "['This is abhishek']\n"
     ]
    }
   ],
   "source": [
    "# Step 2: Initialize the text \n",
    "text= \"Tokenization is the first step in text analytics. The process of breaking down a text paragraph into smaller chunks such as words or sentences is called Tokenization.\""
   ]
  },
  {
   "cell_type": "code",
   "execution_count": 7,
   "id": "4ac9cf70",
   "metadata": {},
   "outputs": [
    {
     "name": "stdout",
     "output_type": "stream",
     "text": [
      "['This is abhishek']\n"
     ]
    }
   ],
   "source": [
    "# Step 3: Perform Tokenization \n",
    "#Sentence Tokenization \n",
    "from nltk.tokenize import sent_tokenize \n",
    "tokenized_text= sent_tokenize(text) \n",
    "print(tokenized_text)"
   ]
  },
  {
   "cell_type": "code",
   "execution_count": 8,
   "id": "057fe5fe",
   "metadata": {},
   "outputs": [
    {
     "name": "stdout",
     "output_type": "stream",
     "text": [
      "['This', 'is', 'abhishek']\n"
     ]
    }
   ],
   "source": [
    "#Word Tokenization \n",
    "from nltk.tokenize import word_tokenize \n",
    "tokenized_word=word_tokenize(text) \n",
    "print(tokenized_word)"
   ]
  },
  {
   "cell_type": "code",
   "execution_count": 9,
   "id": "c28eadf8",
   "metadata": {},
   "outputs": [
    {
     "name": "stdout",
     "output_type": "stream",
     "text": [
      "{'have', 'your', 'they', 'very', 'does', 'over', 'than', 'i', 'ourselves', \"weren't\", 'weren', 'below', \"you'd\", \"haven't\", 'them', 'o', 'as', 'be', 'doesn', \"couldn't\", \"hasn't\", 'doing', 'same', 'because', 'were', 'here', 'once', 'ma', \"it's\", 'some', 'y', 'how', 'our', \"you'll\", 'only', 'herself', 'needn', 'between', 'at', 'against', \"she's\", 'with', 'wouldn', 'there', 'hadn', 'further', 'until', 'he', 'above', 'an', 'couldn', 'these', 'whom', 'any', \"mightn't\", 'didn', \"needn't\", 'we', \"that'll\", 'before', 't', 'up', 'too', 'their', 'did', \"you're\", 'few', 'which', 'under', 'you', 'but', 'his', 're', 'while', 'won', 'should', 'through', 'both', 'mightn', 'what', \"didn't\", 'ain', 'that', 'll', 'yourself', 'don', 'shan', \"wasn't\", 'this', 'wasn', 'own', 'will', 'each', 'yours', 'most', 'not', 'other', 'can', 'now', 'has', 'him', 'me', \"mustn't\", 'and', 'again', 'nor', 'm', 'theirs', 'for', 'a', 'such', \"shan't\", 'just', 'who', 'my', 'are', 'himself', 'or', 'hers', 'all', 'into', 'her', 'no', \"hadn't\", 'shouldn', \"wouldn't\", 'of', 'aren', \"aren't\", 'yourselves', 'by', 'do', \"should've\", 'mustn', 'when', 'she', 've', 'off', \"won't\", 'the', 'then', 'where', 'been', 'myself', 'so', 'those', 'during', 'itself', 'had', 'hasn', 'isn', 'is', 'being', 'why', 'am', 'having', 'it', 'd', 'to', 'if', 'from', 'themselves', 'after', 'down', 'in', \"isn't\", 'more', 's', \"doesn't\", \"don't\", 'ours', 'out', 'about', 'was', 'on', \"shouldn't\", 'its', 'haven', \"you've\"}\n"
     ]
    }
   ],
   "source": [
    "# Step 4: Removing Punctuations and Stop Word \n",
    "# print stop words of English \n",
    "from nltk.corpus import stopwords \n",
    "stop_words=set(stopwords.words(\"english\")) \n",
    "print(stop_words)"
   ]
  },
  {
   "cell_type": "code",
   "execution_count": 10,
   "id": "4affc3a6",
   "metadata": {},
   "outputs": [
    {
     "name": "stdout",
     "output_type": "stream",
     "text": [
      "Tokenized Sentence: ['how', 'to', 'remove', 'stop', 'words', 'with', 'nltk', 'library', 'in', 'python']\n",
      "Filterd Sentence: ['remove', 'stop', 'words', 'nltk', 'library', 'python']\n"
     ]
    }
   ],
   "source": [
    "# Step 4: Removing Punctuations and Stop Word \n",
    "import re\n",
    "text = \"How to remove stop words with NLTK library in Python?\" \n",
    "text = re.sub('[^a-zA-Z]', ' ',text) \n",
    "tokens = word_tokenize(text.lower()) \n",
    "filtered_text=[] \n",
    "for w in tokens: \n",
    "  if w not in stop_words: \n",
    "    filtered_text.append(w) \n",
    "print(\"Tokenized Sentence:\",tokens) \n",
    "print(\"Filterd Sentence:\",filtered_text)"
   ]
  },
  {
   "cell_type": "code",
   "execution_count": 11,
   "id": "df267dda",
   "metadata": {},
   "outputs": [
    {
     "name": "stdout",
     "output_type": "stream",
     "text": [
      "wait\n"
     ]
    }
   ],
   "source": [
    "# Step 5 : Perform Stemming \n",
    "from nltk.stem import PorterStemmer \n",
    "e_words= [\"wait\", \"waiting\", \"waited\", \"waits\"] \n",
    "ps =PorterStemmer() \n",
    "for w in e_words: \n",
    "  rootWord=ps.stem(w) \n",
    "print(rootWord)"
   ]
  },
  {
   "cell_type": "code",
   "execution_count": 12,
   "id": "754ca6ae",
   "metadata": {},
   "outputs": [
    {
     "name": "stdout",
     "output_type": "stream",
     "text": [
      "Lemma for studies is study\n",
      "Lemma for studying is studying\n",
      "Lemma for cries is cry\n",
      "Lemma for cry is cry\n"
     ]
    }
   ],
   "source": [
    "# Step 6: Perform Lemmatization \n",
    "from nltk.stem import WordNetLemmatizer \n",
    "wordnet_lemmatizer = WordNetLemmatizer() \n",
    "text = \"studies studying cries cry\" \n",
    "tokenization = nltk.word_tokenize(text) \n",
    "for w in tokenization: \n",
    "    print(\"Lemma for {} is {}\".format(w, wordnet_lemmatizer.lemmatize(w))) "
   ]
  },
  {
   "cell_type": "code",
   "execution_count": 20,
   "id": "843bfb82",
   "metadata": {},
   "outputs": [
    {
     "name": "stdout",
     "output_type": "stream",
     "text": [
      "[('The', 'DT')]\n",
      "[('pink', 'NN')]\n",
      "[('sweater', 'NN')]\n",
      "[('fit', 'NN')]\n",
      "[('her', 'PRP$')]\n",
      "[('perfectly', 'RB')]\n"
     ]
    },
    {
     "name": "stderr",
     "output_type": "stream",
     "text": [
      "[nltk_data] Downloading package punkt to\n",
      "[nltk_data]     C:\\Users\\dell\\AppData\\Roaming\\nltk_data...\n",
      "[nltk_data]   Package punkt is already up-to-date!\n",
      "[nltk_data] Downloading package averaged_perceptron_tagger to\n",
      "[nltk_data]     C:\\Users\\dell\\AppData\\Roaming\\nltk_data...\n",
      "[nltk_data]   Package averaged_perceptron_tagger is already up-to-\n",
      "[nltk_data]       date!\n"
     ]
    }
   ],
   "source": [
    "# Step 7: Apply POS Tagging to text \n",
    "import nltk \n",
    "nltk.download('punkt')\n",
    "nltk.download('averaged_perceptron_tagger')\n",
    "from nltk.tokenize import word_tokenize \n",
    "data=\"The pink sweater fit her perfectly\" \n",
    "words=word_tokenize(data) \n",
    "for word in words: \n",
    "    print(nltk.pos_tag([word]))"
   ]
  },
  {
   "cell_type": "code",
   "execution_count": 21,
   "id": "f1fee438",
   "metadata": {},
   "outputs": [],
   "source": [
    "# Algorithm for Create representation of document by calculating TFIDF "
   ]
  },
  {
   "cell_type": "code",
   "execution_count": 22,
   "id": "f149e11c",
   "metadata": {},
   "outputs": [],
   "source": [
    "# Step 1: Import the necessary libraries. \n",
    "import pandas as pd \n",
    "from sklearn.feature_extraction.text import TfidfVectorizer "
   ]
  },
  {
   "cell_type": "code",
   "execution_count": 23,
   "id": "0148f251",
   "metadata": {},
   "outputs": [],
   "source": [
    "# Step 2: Initialize the Documents. \n",
    "documentA = 'Jupiter is the largest Planet' \n",
    "documentB = 'Mars is the fourth planet from the Sun' "
   ]
  },
  {
   "cell_type": "code",
   "execution_count": 24,
   "id": "3d05571b",
   "metadata": {},
   "outputs": [],
   "source": [
    "# Step 3: Create BagofWords (BoW) for Document A and B. \n",
    "bagOfWordsA = documentA.split(' ') \n",
    "bagOfWordsB = documentB.split(' ') "
   ]
  },
  {
   "cell_type": "code",
   "execution_count": 25,
   "id": "46c36179",
   "metadata": {},
   "outputs": [],
   "source": [
    "# Step 4: Create Collection of Unique words from Document A and B. \n",
    "uniqueWords = set(bagOfWordsA).union(set(bagOfWordsB))"
   ]
  },
  {
   "cell_type": "code",
   "execution_count": 26,
   "id": "761962cb",
   "metadata": {},
   "outputs": [],
   "source": [
    "# Step 5: Create a dictionary of words and their occurrence for each document in the corpus \n",
    "numOfWordsA = dict.fromkeys(uniqueWords, 0) \n",
    "for word in bagOfWordsA: \n",
    "    numOfWordsA[word] += 1 \n",
    "numOfWordsB = dict.fromkeys(uniqueWords, 0) \n",
    "for word in bagOfWordsB: \n",
    "    numOfWordsB[word] += 1 "
   ]
  },
  {
   "cell_type": "code",
   "execution_count": 27,
   "id": "4175d6ee",
   "metadata": {},
   "outputs": [],
   "source": [
    "# Step 6: Compute the term frequency for each of our documents. \n",
    "def computeTF(wordDict, bagOfWords): \n",
    "    tfDict = {} \n",
    "    bagOfWordsCount = len(bagOfWords) \n",
    "    for word, count in wordDict.items(): \n",
    "        tfDict[word] = count / float(bagOfWordsCount) \n",
    "    return tfDict \n",
    "tfA = computeTF(numOfWordsA, bagOfWordsA) \n",
    "tfB = computeTF(numOfWordsB, bagOfWordsB) "
   ]
  },
  {
   "cell_type": "code",
   "execution_count": 28,
   "id": "2633e771",
   "metadata": {},
   "outputs": [
    {
     "data": {
      "text/plain": [
       "{'largest': 0.6931471805599453,\n",
       " 'planet': 0.6931471805599453,\n",
       " 'Mars': 0.6931471805599453,\n",
       " 'from': 0.6931471805599453,\n",
       " 'Jupiter': 0.6931471805599453,\n",
       " 'fourth': 0.6931471805599453,\n",
       " 'is': 0.0,\n",
       " 'Planet': 0.6931471805599453,\n",
       " 'the': 0.0,\n",
       " 'Sun': 0.6931471805599453}"
      ]
     },
     "execution_count": 28,
     "metadata": {},
     "output_type": "execute_result"
    }
   ],
   "source": [
    "# Step 7: Compute the term Inverse Document Frequency. \n",
    "def computeIDF(documents): \n",
    "    import math \n",
    "    N = len(documents) \n",
    "    idfDict = dict.fromkeys(documents[0].keys(), 0) \n",
    "    for document in documents: \n",
    "        for word, val in document.items(): \n",
    "            if val > 0: \n",
    "                idfDict[word] += 1 \n",
    "    for word, val in idfDict.items(): \n",
    "        idfDict[word] = math.log(N / float(val)) \n",
    "    return idfDict \n",
    "idfs = computeIDF([numOfWordsA, numOfWordsB]) \n",
    "idfs\n"
   ]
  },
  {
   "cell_type": "code",
   "execution_count": 29,
   "id": "b05af925",
   "metadata": {},
   "outputs": [
    {
     "data": {
      "text/html": [
       "<div>\n",
       "<style scoped>\n",
       "    .dataframe tbody tr th:only-of-type {\n",
       "        vertical-align: middle;\n",
       "    }\n",
       "\n",
       "    .dataframe tbody tr th {\n",
       "        vertical-align: top;\n",
       "    }\n",
       "\n",
       "    .dataframe thead th {\n",
       "        text-align: right;\n",
       "    }\n",
       "</style>\n",
       "<table border=\"1\" class=\"dataframe\">\n",
       "  <thead>\n",
       "    <tr style=\"text-align: right;\">\n",
       "      <th></th>\n",
       "      <th>largest</th>\n",
       "      <th>planet</th>\n",
       "      <th>Mars</th>\n",
       "      <th>from</th>\n",
       "      <th>Jupiter</th>\n",
       "      <th>fourth</th>\n",
       "      <th>is</th>\n",
       "      <th>Planet</th>\n",
       "      <th>the</th>\n",
       "      <th>Sun</th>\n",
       "    </tr>\n",
       "  </thead>\n",
       "  <tbody>\n",
       "    <tr>\n",
       "      <th>0</th>\n",
       "      <td>0.138629</td>\n",
       "      <td>0.000000</td>\n",
       "      <td>0.000000</td>\n",
       "      <td>0.000000</td>\n",
       "      <td>0.138629</td>\n",
       "      <td>0.000000</td>\n",
       "      <td>0.0</td>\n",
       "      <td>0.138629</td>\n",
       "      <td>0.0</td>\n",
       "      <td>0.000000</td>\n",
       "    </tr>\n",
       "    <tr>\n",
       "      <th>1</th>\n",
       "      <td>0.000000</td>\n",
       "      <td>0.086643</td>\n",
       "      <td>0.086643</td>\n",
       "      <td>0.086643</td>\n",
       "      <td>0.000000</td>\n",
       "      <td>0.086643</td>\n",
       "      <td>0.0</td>\n",
       "      <td>0.000000</td>\n",
       "      <td>0.0</td>\n",
       "      <td>0.086643</td>\n",
       "    </tr>\n",
       "  </tbody>\n",
       "</table>\n",
       "</div>"
      ],
      "text/plain": [
       "    largest    planet      Mars      from   Jupiter    fourth   is    Planet  \\\n",
       "0  0.138629  0.000000  0.000000  0.000000  0.138629  0.000000  0.0  0.138629   \n",
       "1  0.000000  0.086643  0.086643  0.086643  0.000000  0.086643  0.0  0.000000   \n",
       "\n",
       "   the       Sun  \n",
       "0  0.0  0.000000  \n",
       "1  0.0  0.086643  "
      ]
     },
     "execution_count": 29,
     "metadata": {},
     "output_type": "execute_result"
    }
   ],
   "source": [
    "# Step 8: Compute the term TF/IDF for all words. \n",
    "def computeTFIDF(tfBagOfWords, idfs): \n",
    "    tfidf = {} \n",
    "    for word, val in tfBagOfWords.items(): \n",
    "        tfidf[word] = val * idfs[word] \n",
    "    return tfidf \n",
    "tfidfA = computeTFIDF(tfA, idfs) \n",
    "tfidfB = computeTFIDF(tfB, idfs) \n",
    "df = pd.DataFrame([tfidfA, tfidfB]) \n",
    "df"
   ]
  },
  {
   "cell_type": "code",
   "execution_count": null,
   "id": "ae613b31",
   "metadata": {},
   "outputs": [],
   "source": []
  }
 ],
 "metadata": {
  "kernelspec": {
   "display_name": "Python 3 (ipykernel)",
   "language": "python",
   "name": "python3"
  },
  "language_info": {
   "codemirror_mode": {
    "name": "ipython",
    "version": 3
   },
   "file_extension": ".py",
   "mimetype": "text/x-python",
   "name": "python",
   "nbconvert_exporter": "python",
   "pygments_lexer": "ipython3",
   "version": "3.9.6"
  }
 },
 "nbformat": 4,
 "nbformat_minor": 5
}
